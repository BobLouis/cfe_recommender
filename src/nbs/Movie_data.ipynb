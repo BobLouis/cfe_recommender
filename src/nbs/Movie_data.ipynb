{
 "cells": [
  {
   "cell_type": "code",
   "execution_count": 1,
   "id": "15cfaed8-e726-4372-b928-1ae3d221df05",
   "metadata": {},
   "outputs": [],
   "source": [
    "import setup_django\n",
    "setup_django.init()"
   ]
  },
  {
   "cell_type": "code",
   "execution_count": 3,
   "id": "c9afee84-7f08-4b56-9227-fa1591d36b9c",
   "metadata": {},
   "outputs": [
    {
     "data": {
      "text/plain": [
       "<MovieQuerySet [{'title': 'Ariel', 'release_date': datetime.date(1988, 10, 21), 'rating_avg': Decimal('3.00'), 'rating_count': 3}, {'title': 'Shadows in Paradise', 'release_date': datetime.date(1986, 10, 16), 'rating_avg': Decimal('4.33'), 'rating_count': 3}, {'title': 'Four Rooms', 'release_date': datetime.date(1995, 12, 9), 'rating_avg': Decimal('3.12'), 'rating_count': 8}, {'title': 'Judgment Night', 'release_date': datetime.date(1993, 10, 15), 'rating_avg': Decimal('3.67'), 'rating_count': 3}, {'title': 'Star Wars', 'release_date': datetime.date(1977, 5, 25), 'rating_avg': Decimal('3.33'), 'rating_count': 3}, {'title': 'Finding Nemo', 'release_date': datetime.date(2003, 5, 30), 'rating_avg': Decimal('4.00'), 'rating_count': 2}, {'title': 'Forrest Gump', 'release_date': datetime.date(1994, 7, 6), 'rating_avg': Decimal('2.67'), 'rating_count': 3}, {'title': 'American Beauty', 'release_date': datetime.date(1999, 9, 15), 'rating_avg': Decimal('4.00'), 'rating_count': 2}, {'title': 'Citizen Kane', 'release_date': datetime.date(1941, 4, 30), 'rating_avg': Decimal('2.67'), 'rating_count': 3}, {'title': 'Dancer in the Dark', 'release_date': datetime.date(2000, 5, 17), 'rating_avg': Decimal('2.00'), 'rating_count': 2}, {'title': 'The Dark', 'release_date': datetime.date(2006, 1, 26), 'rating_avg': Decimal('3.33'), 'rating_count': 3}, {'title': 'The Fifth Element', 'release_date': datetime.date(1997, 5, 7), 'rating_avg': Decimal('3.00'), 'rating_count': 3}, {'title': 'Metropolis', 'release_date': datetime.date(1927, 1, 10), 'rating_avg': Decimal('1.33'), 'rating_count': 3}, {'title': 'My Life Without Me', 'release_date': datetime.date(2003, 3, 7), 'rating_avg': Decimal('1.50'), 'rating_count': 2}, {'title': 'The Endless Summer', 'release_date': datetime.date(1966, 6, 15), 'rating_avg': Decimal('2.50'), 'rating_count': 2}, {'title': 'Pirates of the Caribbean: The Curse of the Black Pearl', 'release_date': datetime.date(2003, 7, 9), 'rating_avg': Decimal('2.50'), 'rating_count': 4}, {'title': 'Kill Bill: Vol. 1', 'release_date': datetime.date(2003, 10, 10), 'rating_avg': Decimal('2.25'), 'rating_count': 4}, {'title': 'Jarhead', 'release_date': datetime.date(2005, 11, 4), 'rating_avg': Decimal('2.67'), 'rating_count': 3}, {'title': 'Walk on Water', 'release_date': datetime.date(2004, 2, 5), 'rating_avg': Decimal('3.33'), 'rating_count': 3}, {'title': '9 Songs', 'release_date': datetime.date(2004, 7, 16), 'rating_avg': Decimal('2.50'), 'rating_count': 2}, '...(remaining elements truncated)...']>"
      ]
     },
     "execution_count": 3,
     "metadata": {},
     "output_type": "execute_result"
    }
   ],
   "source": []
  },
  {
   "cell_type": "code",
   "execution_count": null,
   "metadata": {},
   "outputs": [],
   "source": [
    "from movies.models import Movie\n",
    "qs = Movie.objects.all().values('title','release_date', 'rating_avg','rating_count')\n",
    "qs"
   ]
  },
  {
   "cell_type": "code",
   "execution_count": 4,
   "metadata": {},
   "outputs": [],
   "source": [
    "import pandas as pd"
   ]
  },
  {
   "cell_type": "code",
   "execution_count": 5,
   "metadata": {},
   "outputs": [
    {
     "data": {
      "text/html": [
       "<div>\n",
       "<style scoped>\n",
       "    .dataframe tbody tr th:only-of-type {\n",
       "        vertical-align: middle;\n",
       "    }\n",
       "\n",
       "    .dataframe tbody tr th {\n",
       "        vertical-align: top;\n",
       "    }\n",
       "\n",
       "    .dataframe thead th {\n",
       "        text-align: right;\n",
       "    }\n",
       "</style>\n",
       "<table border=\"1\" class=\"dataframe\">\n",
       "  <thead>\n",
       "    <tr style=\"text-align: right;\">\n",
       "      <th></th>\n",
       "      <th>title</th>\n",
       "      <th>release_date</th>\n",
       "      <th>rating_avg</th>\n",
       "      <th>rating_count</th>\n",
       "    </tr>\n",
       "  </thead>\n",
       "  <tbody>\n",
       "    <tr>\n",
       "      <th>0</th>\n",
       "      <td>Ariel</td>\n",
       "      <td>1988-10-21</td>\n",
       "      <td>3.00</td>\n",
       "      <td>3</td>\n",
       "    </tr>\n",
       "    <tr>\n",
       "      <th>1</th>\n",
       "      <td>Shadows in Paradise</td>\n",
       "      <td>1986-10-16</td>\n",
       "      <td>4.33</td>\n",
       "      <td>3</td>\n",
       "    </tr>\n",
       "    <tr>\n",
       "      <th>2</th>\n",
       "      <td>Four Rooms</td>\n",
       "      <td>1995-12-09</td>\n",
       "      <td>3.12</td>\n",
       "      <td>8</td>\n",
       "    </tr>\n",
       "    <tr>\n",
       "      <th>3</th>\n",
       "      <td>Judgment Night</td>\n",
       "      <td>1993-10-15</td>\n",
       "      <td>3.67</td>\n",
       "      <td>3</td>\n",
       "    </tr>\n",
       "    <tr>\n",
       "      <th>4</th>\n",
       "      <td>Star Wars</td>\n",
       "      <td>1977-05-25</td>\n",
       "      <td>3.33</td>\n",
       "      <td>3</td>\n",
       "    </tr>\n",
       "    <tr>\n",
       "      <th>5</th>\n",
       "      <td>Finding Nemo</td>\n",
       "      <td>2003-05-30</td>\n",
       "      <td>4.00</td>\n",
       "      <td>2</td>\n",
       "    </tr>\n",
       "    <tr>\n",
       "      <th>6</th>\n",
       "      <td>Forrest Gump</td>\n",
       "      <td>1994-07-06</td>\n",
       "      <td>2.67</td>\n",
       "      <td>3</td>\n",
       "    </tr>\n",
       "    <tr>\n",
       "      <th>7</th>\n",
       "      <td>American Beauty</td>\n",
       "      <td>1999-09-15</td>\n",
       "      <td>4.00</td>\n",
       "      <td>2</td>\n",
       "    </tr>\n",
       "    <tr>\n",
       "      <th>8</th>\n",
       "      <td>Citizen Kane</td>\n",
       "      <td>1941-04-30</td>\n",
       "      <td>2.67</td>\n",
       "      <td>3</td>\n",
       "    </tr>\n",
       "    <tr>\n",
       "      <th>9</th>\n",
       "      <td>Dancer in the Dark</td>\n",
       "      <td>2000-05-17</td>\n",
       "      <td>2.00</td>\n",
       "      <td>2</td>\n",
       "    </tr>\n",
       "  </tbody>\n",
       "</table>\n",
       "</div>"
      ],
      "text/plain": [
       "                 title release_date rating_avg  rating_count\n",
       "0                Ariel   1988-10-21       3.00             3\n",
       "1  Shadows in Paradise   1986-10-16       4.33             3\n",
       "2           Four Rooms   1995-12-09       3.12             8\n",
       "3       Judgment Night   1993-10-15       3.67             3\n",
       "4            Star Wars   1977-05-25       3.33             3\n",
       "5         Finding Nemo   2003-05-30       4.00             2\n",
       "6         Forrest Gump   1994-07-06       2.67             3\n",
       "7      American Beauty   1999-09-15       4.00             2\n",
       "8         Citizen Kane   1941-04-30       2.67             3\n",
       "9   Dancer in the Dark   2000-05-17       2.00             2"
      ]
     },
     "execution_count": 5,
     "metadata": {},
     "output_type": "execute_result"
    }
   ],
   "source": [
    "df = pd.DataFrame(qs)\n",
    "df.head(n=10)"
   ]
  },
  {
   "cell_type": "code",
   "execution_count": 8,
   "metadata": {},
   "outputs": [
    {
     "data": {
      "text/plain": [
       "{'title': 'Ariel',\n",
       " 'release_date': datetime.date(1988, 10, 21),\n",
       " 'rating_avg': Decimal('3.00'),\n",
       " 'rating_count': 3}"
      ]
     },
     "execution_count": 8,
     "metadata": {},
     "output_type": "execute_result"
    }
   ],
   "source": [
    "qs.first()"
   ]
  },
  {
   "cell_type": "code",
   "execution_count": null,
   "metadata": {},
   "outputs": [],
   "source": [
    "# df.to_csv #output to csv"
   ]
  }
 ],
 "metadata": {
  "kernelspec": {
   "display_name": "Python 3 (ipykernel)",
   "language": "python",
   "name": "python3"
  },
  "language_info": {
   "codemirror_mode": {
    "name": "ipython",
    "version": 3
   },
   "file_extension": ".py",
   "mimetype": "text/x-python",
   "name": "python",
   "nbconvert_exporter": "python",
   "pygments_lexer": "ipython3",
   "version": "3.8.18"
  }
 },
 "nbformat": 4,
 "nbformat_minor": 5
}
