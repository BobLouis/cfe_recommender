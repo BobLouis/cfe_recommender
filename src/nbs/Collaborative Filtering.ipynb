{
 "cells": [
  {
   "cell_type": "code",
   "execution_count": 2,
   "id": "30f12085",
   "metadata": {},
   "outputs": [],
   "source": [
    "# %pip install scikit-surprise==1.1.0 # pickle"
   ]
  },
  {
   "cell_type": "code",
   "execution_count": 3,
   "id": "9245519c",
   "metadata": {},
   "outputs": [],
   "source": [
    "from surprise import accuracy, Reader, Dataset, SVD\n",
    "from surprise.model_selection import cross_validate"
   ]
  },
  {
   "cell_type": "code",
   "execution_count": 4,
   "id": "2b9a800e",
   "metadata": {},
   "outputs": [
    {
     "name": "stdout",
     "output_type": "stream",
     "text": [
      "/home/louis/astraZenith/backend_recommender/recommender/src/data\n"
     ]
    },
    {
     "data": {
      "text/plain": [
       "True"
      ]
     },
     "execution_count": 4,
     "metadata": {},
     "output_type": "execute_result"
    }
   ],
   "source": [
    "import pandas as pd\n",
    "import pathlib\n",
    "DATA_DIR = pathlib.Path().resolve().parent / \"data\"\n",
    "print(DATA_DIR)\n",
    "DATA_DIR.exists()"
   ]
  },
  {
   "cell_type": "code",
   "execution_count": 5,
   "id": "ca84eeb6",
   "metadata": {},
   "outputs": [
    {
     "data": {
      "text/plain": [
       "True"
      ]
     },
     "execution_count": 5,
     "metadata": {},
     "output_type": "execute_result"
    }
   ],
   "source": [
    "dataset = DATA_DIR / 'ratings_small.csv'\n",
    "dataset.exists()"
   ]
  },
  {
   "cell_type": "code",
   "execution_count": 6,
   "id": "09256f03",
   "metadata": {},
   "outputs": [
    {
     "data": {
      "text/html": [
       "<div>\n",
       "<style scoped>\n",
       "    .dataframe tbody tr th:only-of-type {\n",
       "        vertical-align: middle;\n",
       "    }\n",
       "\n",
       "    .dataframe tbody tr th {\n",
       "        vertical-align: top;\n",
       "    }\n",
       "\n",
       "    .dataframe thead th {\n",
       "        text-align: right;\n",
       "    }\n",
       "</style>\n",
       "<table border=\"1\" class=\"dataframe\">\n",
       "  <thead>\n",
       "    <tr style=\"text-align: right;\">\n",
       "      <th></th>\n",
       "      <th>userId</th>\n",
       "      <th>movieId</th>\n",
       "      <th>rating</th>\n",
       "      <th>timestamp</th>\n",
       "    </tr>\n",
       "  </thead>\n",
       "  <tbody>\n",
       "    <tr>\n",
       "      <th>0</th>\n",
       "      <td>1</td>\n",
       "      <td>31</td>\n",
       "      <td>2.5</td>\n",
       "      <td>1260759144</td>\n",
       "    </tr>\n",
       "    <tr>\n",
       "      <th>1</th>\n",
       "      <td>1</td>\n",
       "      <td>1029</td>\n",
       "      <td>3.0</td>\n",
       "      <td>1260759179</td>\n",
       "    </tr>\n",
       "    <tr>\n",
       "      <th>2</th>\n",
       "      <td>1</td>\n",
       "      <td>1061</td>\n",
       "      <td>3.0</td>\n",
       "      <td>1260759182</td>\n",
       "    </tr>\n",
       "    <tr>\n",
       "      <th>3</th>\n",
       "      <td>1</td>\n",
       "      <td>1129</td>\n",
       "      <td>2.0</td>\n",
       "      <td>1260759185</td>\n",
       "    </tr>\n",
       "    <tr>\n",
       "      <th>4</th>\n",
       "      <td>1</td>\n",
       "      <td>1172</td>\n",
       "      <td>4.0</td>\n",
       "      <td>1260759205</td>\n",
       "    </tr>\n",
       "  </tbody>\n",
       "</table>\n",
       "</div>"
      ],
      "text/plain": [
       "   userId  movieId  rating   timestamp\n",
       "0       1       31     2.5  1260759144\n",
       "1       1     1029     3.0  1260759179\n",
       "2       1     1061     3.0  1260759182\n",
       "3       1     1129     2.0  1260759185\n",
       "4       1     1172     4.0  1260759205"
      ]
     },
     "execution_count": 6,
     "metadata": {},
     "output_type": "execute_result"
    }
   ],
   "source": [
    "df = pd.read_csv(dataset)\n",
    "df['rating'].dropna(inplace=True) # drop NaNs in rating column\n",
    "df.head()"
   ]
  },
  {
   "cell_type": "code",
   "execution_count": 7,
   "id": "3bb2f433",
   "metadata": {},
   "outputs": [
    {
     "data": {
      "text/plain": [
       "(5.0, 0.5)"
      ]
     },
     "execution_count": 7,
     "metadata": {},
     "output_type": "execute_result"
    }
   ],
   "source": [
    "df.rating.max(), df.rating.min()"
   ]
  },
  {
   "cell_type": "code",
   "execution_count": 8,
   "id": "e43be89e",
   "metadata": {},
   "outputs": [],
   "source": [
    "reader = Reader(rating_scale=(0.5, 5))\n",
    "data = Dataset.load_from_df(df[['userId', 'movieId', 'rating']], reader)"
   ]
  },
  {
   "cell_type": "code",
   "execution_count": 9,
   "id": "a8c17eca",
   "metadata": {},
   "outputs": [
    {
     "name": "stdout",
     "output_type": "stream",
     "text": [
      "Processing epoch 0\n"
     ]
    },
    {
     "name": "stdout",
     "output_type": "stream",
     "text": [
      "Processing epoch 1\n",
      "Processing epoch 2\n",
      "Processing epoch 3\n",
      "Processing epoch 4\n",
      "Processing epoch 5\n",
      "Processing epoch 6\n",
      "Processing epoch 7\n",
      "Processing epoch 8\n",
      "Processing epoch 9\n",
      "Processing epoch 10\n",
      "Processing epoch 11\n",
      "Processing epoch 12\n",
      "Processing epoch 13\n",
      "Processing epoch 14\n",
      "Processing epoch 15\n",
      "Processing epoch 16\n",
      "Processing epoch 17\n",
      "Processing epoch 18\n",
      "Processing epoch 19\n",
      "Processing epoch 0\n",
      "Processing epoch 1\n",
      "Processing epoch 2\n",
      "Processing epoch 3\n",
      "Processing epoch 4\n",
      "Processing epoch 5\n",
      "Processing epoch 6\n",
      "Processing epoch 7\n",
      "Processing epoch 8\n",
      "Processing epoch 9\n",
      "Processing epoch 10\n",
      "Processing epoch 11\n",
      "Processing epoch 12\n",
      "Processing epoch 13\n",
      "Processing epoch 14\n",
      "Processing epoch 15\n",
      "Processing epoch 16\n",
      "Processing epoch 17\n",
      "Processing epoch 18\n",
      "Processing epoch 19\n",
      "Processing epoch 0\n",
      "Processing epoch 1\n",
      "Processing epoch 2\n",
      "Processing epoch 3\n",
      "Processing epoch 4\n",
      "Processing epoch 5\n",
      "Processing epoch 6\n",
      "Processing epoch 7\n",
      "Processing epoch 8\n",
      "Processing epoch 9\n",
      "Processing epoch 10\n",
      "Processing epoch 11\n",
      "Processing epoch 12\n",
      "Processing epoch 13\n",
      "Processing epoch 14\n",
      "Processing epoch 15\n",
      "Processing epoch 16\n",
      "Processing epoch 17\n",
      "Processing epoch 18\n",
      "Processing epoch 19\n",
      "Processing epoch 0\n",
      "Processing epoch 1\n",
      "Processing epoch 2\n",
      "Processing epoch 3\n",
      "Processing epoch 4\n",
      "Processing epoch 5\n",
      "Processing epoch 6\n",
      "Processing epoch 7\n",
      "Processing epoch 8\n",
      "Processing epoch 9\n",
      "Processing epoch 10\n",
      "Processing epoch 11\n",
      "Processing epoch 12\n",
      "Processing epoch 13\n",
      "Processing epoch 14\n",
      "Processing epoch 15\n",
      "Processing epoch 16\n",
      "Processing epoch 17\n",
      "Processing epoch 18\n",
      "Processing epoch 19\n",
      "Evaluating RMSE, MAE of algorithm SVD on 4 split(s).\n",
      "\n",
      "                  Fold 1  Fold 2  Fold 3  Fold 4  Mean    Std     \n",
      "RMSE (testset)    0.8974  0.9036  0.9043  0.8879  0.8983  0.0066  \n",
      "MAE (testset)     0.6909  0.6967  0.6969  0.6839  0.6921  0.0053  \n",
      "Fit time          1.66    1.64    1.70    1.62    1.65    0.03    \n",
      "Test time         0.11    0.06    0.06    0.10    0.08    0.02    \n"
     ]
    },
    {
     "data": {
      "text/plain": [
       "{'test_rmse': array([0.89740793, 0.90357971, 0.90430958, 0.88786694]),\n",
       " 'test_mae': array([0.69094387, 0.69667346, 0.69693541, 0.68393348]),\n",
       " 'fit_time': (1.6577746868133545,\n",
       "  1.63899827003479,\n",
       "  1.696925401687622,\n",
       "  1.620718002319336),\n",
       " 'test_time': (0.1096184253692627,\n",
       "  0.06035113334655762,\n",
       "  0.06104588508605957,\n",
       "  0.09860754013061523)}"
      ]
     },
     "execution_count": 9,
     "metadata": {},
     "output_type": "execute_result"
    }
   ],
   "source": [
    "algo = SVD(verbose=True, n_epochs=20)\n",
    "cross_validate(algo, data, measures=['RMSE', \"MAE\"], cv=4, verbose=True)"
   ]
  },
  {
   "cell_type": "code",
   "execution_count": 10,
   "id": "c1739d52",
   "metadata": {},
   "outputs": [
    {
     "name": "stdout",
     "output_type": "stream",
     "text": [
      "Processing epoch 0\n",
      "Processing epoch 1\n",
      "Processing epoch 2\n",
      "Processing epoch 3\n",
      "Processing epoch 4\n",
      "Processing epoch 5\n",
      "Processing epoch 6\n",
      "Processing epoch 7\n",
      "Processing epoch 8\n",
      "Processing epoch 9\n",
      "Processing epoch 10\n",
      "Processing epoch 11\n",
      "Processing epoch 12\n",
      "Processing epoch 13\n",
      "Processing epoch 14\n",
      "Processing epoch 15\n",
      "Processing epoch 16\n",
      "Processing epoch 17\n",
      "Processing epoch 18\n",
      "Processing epoch 19\n"
     ]
    },
    {
     "data": {
      "text/plain": [
       "<surprise.prediction_algorithms.matrix_factorization.SVD at 0x7f5b1e85c2e0>"
      ]
     },
     "execution_count": 10,
     "metadata": {},
     "output_type": "execute_result"
    }
   ],
   "source": [
    "trainset = data.build_full_trainset()\n",
    "algo.fit(trainset)"
   ]
  },
  {
   "cell_type": "code",
   "execution_count": 11,
   "id": "407a17ac",
   "metadata": {},
   "outputs": [
    {
     "name": "stdout",
     "output_type": "stream",
     "text": [
      "RMSE: 0.6439\n",
      "MAE:  0.4984\n"
     ]
    },
    {
     "data": {
      "text/plain": [
       "0.4984139987887754"
      ]
     },
     "execution_count": 11,
     "metadata": {},
     "output_type": "execute_result"
    }
   ],
   "source": [
    "testset = trainset.build_testset()\n",
    "predictions = algo.test(testset)\n",
    "# RMSE should be low as we are biased\n",
    "accuracy.rmse(predictions, verbose=True)\n",
    "accuracy.mae(predictions, verbose=True)"
   ]
  },
  {
   "cell_type": "code",
   "execution_count": 12,
   "id": "add78eba",
   "metadata": {},
   "outputs": [
    {
     "name": "stdout",
     "output_type": "stream",
     "text": [
      "547 31109 3.0\n"
     ]
    }
   ],
   "source": [
    "sample_row = df.sample(n=5)\n",
    "userId   = sample_row['userId'].values[0]\n",
    "movieId = sample_row['movieId'].values[0]\n",
    "rating   = sample_row['rating'].values[0]\n",
    "print(userId, movieId, rating)"
   ]
  },
  {
   "cell_type": "code",
   "execution_count": 13,
   "id": "17bf1722",
   "metadata": {},
   "outputs": [
    {
     "data": {
      "text/plain": [
       "3.54642531980884"
      ]
     },
     "execution_count": 13,
     "metadata": {},
     "output_type": "execute_result"
    }
   ],
   "source": [
    "pred = algo.predict(uid=userId, iid=movieId)\n",
    "pred.est"
   ]
  },
  {
   "cell_type": "code",
   "execution_count": 14,
   "id": "0252cc76",
   "metadata": {},
   "outputs": [],
   "source": [
    "import pickle"
   ]
  },
  {
   "cell_type": "code",
   "execution_count": 15,
   "id": "85277239",
   "metadata": {},
   "outputs": [],
   "source": [
    "algo_data = {\"model\": algo}\n",
    "with open('model.pkl', 'wb') as f:\n",
    "    pickle.dump(algo_data, f)"
   ]
  },
  {
   "cell_type": "code",
   "execution_count": 16,
   "id": "e54b3f7a",
   "metadata": {},
   "outputs": [],
   "source": [
    "model_algo= None\n",
    "with open('model.pkl', 'rb') as f:\n",
    "    model_data_loaded = pickle.load(f)\n",
    "    model_algo = model_data_loaded.get('model')"
   ]
  },
  {
   "cell_type": "code",
   "execution_count": 17,
   "id": "bda0aa70",
   "metadata": {},
   "outputs": [
    {
     "data": {
      "text/plain": [
       "3.54642531980884"
      ]
     },
     "execution_count": 17,
     "metadata": {},
     "output_type": "execute_result"
    }
   ],
   "source": [
    "model_algo.predict(uid=userId, iid=movieId).est"
   ]
  },
  {
   "cell_type": "code",
   "execution_count": 18,
   "id": "533004a7",
   "metadata": {},
   "outputs": [
    {
     "name": "stdout",
     "output_type": "stream",
     "text": [
      "547 8853 3.1697188230063524\n",
      "242 260 5\n",
      "472 412 3.2791388860442563\n",
      "102 296 4.614277563473047\n",
      "78 26614 4.495313709982936\n",
      "405 2919 3.6712583645012824\n",
      "516 586 3.3013180398060666\n",
      "202 3766 3.807780837487288\n",
      "455 2194 3.7358713246911384\n",
      "596 4344 3.15234233386346\n"
     ]
    }
   ],
   "source": [
    "sample_rows = df.sample(n=10).to_dict('records')\n",
    "for row in sample_rows:\n",
    "    userId = row['userId']\n",
    "    movieId = row['movieId']\n",
    "    pred = model_algo.predict(uid=userId, iid=movieId).est\n",
    "    print(userId, movieId, pred)"
   ]
  },
  {
   "cell_type": "code",
   "execution_count": null,
   "id": "de2a19a0",
   "metadata": {},
   "outputs": [],
   "source": []
  }
 ],
 "metadata": {
  "kernelspec": {
   "display_name": "Python 3 (ipykernel)",
   "language": "python",
   "name": "python3"
  },
  "language_info": {
   "codemirror_mode": {
    "name": "ipython",
    "version": 3
   },
   "file_extension": ".py",
   "mimetype": "text/x-python",
   "name": "python",
   "nbconvert_exporter": "python",
   "pygments_lexer": "ipython3",
   "version": "3.8.18"
  }
 },
 "nbformat": 4,
 "nbformat_minor": 5
}
